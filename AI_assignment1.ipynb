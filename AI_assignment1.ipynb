{
 "metadata": {
  "language_info": {
   "codemirror_mode": {
    "name": "ipython",
    "version": 3
   },
   "file_extension": ".py",
   "mimetype": "text/x-python",
   "name": "python",
   "nbconvert_exporter": "python",
   "pygments_lexer": "ipython3",
   "version": "2.7.17-final"
  },
  "orig_nbformat": 2,
  "kernelspec": {
   "name": "Python 2.7.17 64-bit",
   "display_name": "Python 2.7.17 64-bit",
   "metadata": {
    "interpreter": {
     "hash": "767d51c1340bd893661ea55ea3124f6de3c7a262a8b4abca0554b478b1e2ff90"
    }
   }
  }
 },
 "nbformat": 4,
 "nbformat_minor": 2,
 "cells": [
  {
   "cell_type": "code",
   "execution_count": 1,
   "metadata": {},
   "outputs": [
    {
     "output_type": "execute_result",
     "data": {
      "text/plain": "&lt;mpl_toolkits.mplot3d.art3d.Poly3DCollection at 0x7f3e4e5bcfd0&gt;"
     },
     "metadata": {},
     "execution_count": 1
    }
   ],
   "source": [
    "import numpy as np\n",
    "import matplotlib.pyplot as plt\n",
    "from mpl_toolkits.mplot3d import Axes3D\n",
    "\n",
    "a1,b1,c1,d1 = 1,1,1,1\n",
    "a2,b2,c2,d2 = 2,3,-1,-4\n",
    "a3,b3,c3,d3 = 0,-0.5,1.5,3\n",
    "\n",
    "x1 = np.linspace(-1,1,10)\n",
    "y1 = np.linspace(-1,1,10)\n",
    "x2 = np.linspace(-1,1,10)\n",
    "y2 = np.linspace(-1,1,10)\n",
    "x3 = np.linspace(-1,1,10)\n",
    "y3 = np.linspace(-1,1,10)\n",
    "\n",
    "X1,Y1 = np.meshgrid(x1,y1)\n",
    "X2,Y2 = np.meshgrid(x2,y2)\n",
    "X3,Y3 = np.meshgrid(x3,y3)\n",
    "\n",
    "Z1 = (d1 - a1*X1 - b1*Y1) / c1\n",
    "Z2 = (d2 - a2*X2 - b2*Y2) / c2\n",
    "Z3 = (d3 - a3*X3 - b3*Y3) / c3\n",
    "\n",
    "fig = plt.figure()\n",
    "ax = fig.gca(projection='3d')\n",
    "\n",
    "ax.plot_surface(X1, Y1, Z1, color='green', alpha=0.7)\n",
    "ax.plot_surface(X2, Y2, Z2, color='blue', alpha=0.7)\n",
    "ax.plot_surface(X3, Y3, Z3, color='red', alpha=0.7)\n"
   ]
  },
  {
   "cell_type": "code",
   "execution_count": null,
   "metadata": {},
   "outputs": [],
   "source": []
  }
 ]
}